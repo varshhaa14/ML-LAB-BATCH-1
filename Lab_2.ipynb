{
  "nbformat": 4,
  "nbformat_minor": 0,
  "metadata": {
    "colab": {
      "provenance": []
    },
    "kernelspec": {
      "name": "python3",
      "display_name": "Python 3"
    },
    "language_info": {
      "name": "python"
    }
  },
  "cells": [
    {
      "cell_type": "code",
      "execution_count": 2,
      "metadata": {
        "colab": {
          "base_uri": "https://localhost:8080/"
        },
        "id": "j94b5b8j9SOM",
        "outputId": "286e794f-20b5-4998-a0b7-a6328c5bcc17"
      },
      "outputs": [
        {
          "output_type": "stream",
          "name": "stdout",
          "text": [
            "[1 2 3 4 5 6 7 8]\n",
            "[[1 2 3 4]\n",
            " [5 6 7 8]]\n",
            "[[[1 2]\n",
            "  [3 4]]\n",
            "\n",
            " [[5 6]\n",
            "  [7 8]]]\n"
          ]
        }
      ],
      "source": [
        "import numpy as np\n",
        "\n",
        "arr = np.array([1,2,3,4,5,6,7,8])\n",
        "print(arr)\n",
        "print(arr.reshape(2,4))\n",
        "print(arr.reshape(2,2,2))"
      ]
    },
    {
      "cell_type": "code",
      "source": [
        "rand_int_matrix = np.random.randint(0, 10, size=(3, 3))\n",
        "print(\"Random integer matrix (3x3):\\n\", rand_int_matrix)"
      ],
      "metadata": {
        "colab": {
          "base_uri": "https://localhost:8080/"
        },
        "id": "bAimfMSY91AN",
        "outputId": "e96540c2-3702-4588-e232-ae87255b5949"
      },
      "execution_count": 3,
      "outputs": [
        {
          "output_type": "stream",
          "name": "stdout",
          "text": [
            "Random integer matrix (3x3):\n",
            " [[7 5 3]\n",
            " [5 1 1]\n",
            " [1 2 7]]\n"
          ]
        }
      ]
    },
    {
      "cell_type": "code",
      "source": [
        "from scipy import linalg"
      ],
      "metadata": {
        "id": "TGyphfPk-NDq"
      },
      "execution_count": 4,
      "outputs": []
    },
    {
      "cell_type": "code",
      "source": [
        "A = np.array([[4, 2, 1],\n",
        "              [0, 3, 1],\n",
        "              [2, 1, 3]])\n",
        "det_A = linalg.det(A)\n",
        "print(\"Determinant of A:\", det_A)"
      ],
      "metadata": {
        "colab": {
          "base_uri": "https://localhost:8080/"
        },
        "id": "6B_jZrcK-gIL",
        "outputId": "6bd5903a-b51e-4ddd-fd62-1c2189d62a8b"
      },
      "execution_count": 5,
      "outputs": [
        {
          "output_type": "stream",
          "name": "stdout",
          "text": [
            "Determinant of A: 30.0\n"
          ]
        }
      ]
    },
    {
      "cell_type": "code",
      "source": [
        "eigvals, eigvecs = linalg.eig(A)\n",
        "\n",
        "print(\"Eigenvalues:\")\n",
        "print(eigvals)\n",
        "\n",
        "print(\"\\nEigenvectors (each column corresponds to an eigenvector):\")\n",
        "print(eigvecs)"
      ],
      "metadata": {
        "colab": {
          "base_uri": "https://localhost:8080/"
        },
        "id": "bPNSHvFY-mXD",
        "outputId": "447cc976-4e17-4086-98c6-865a39f60894"
      },
      "execution_count": 6,
      "outputs": [
        {
          "output_type": "stream",
          "name": "stdout",
          "text": [
            "Eigenvalues:\n",
            "[5.59867451+0.j         2.20066275+0.71797956j 2.20066275-0.71797956j]\n",
            "\n",
            "Eigenvectors (each column corresponds to an eigenvector):\n",
            "[[ 0.7185175 +0.j          0.03511769-0.44004435j  0.03511769+0.44004435j]\n",
            " [ 0.24978406+0.j          0.45479019+0.40850099j  0.45479019-0.40850099j]\n",
            " [ 0.64910748+0.j         -0.65682611+0.j         -0.65682611-0.j        ]]\n"
          ]
        }
      ]
    },
    {
      "cell_type": "code",
      "source": [
        "import pandas as pd\n",
        "\n",
        "df = pd.DataFrame([1,2,3,4,5,6,7,8,9])\n",
        "print(df)\n",
        "print(df.head(3))\n",
        "print(df.describe)"
      ],
      "metadata": {
        "colab": {
          "base_uri": "https://localhost:8080/"
        },
        "id": "JHeTFQKZ-uNj",
        "outputId": "11cf53a1-f603-4abd-b4c4-6e52ea071601"
      },
      "execution_count": 10,
      "outputs": [
        {
          "output_type": "stream",
          "name": "stdout",
          "text": [
            "   0\n",
            "0  1\n",
            "1  2\n",
            "2  3\n",
            "3  4\n",
            "4  5\n",
            "5  6\n",
            "6  7\n",
            "7  8\n",
            "8  9\n",
            "   0\n",
            "0  1\n",
            "1  2\n",
            "2  3\n",
            "<bound method NDFrame.describe of    0\n",
            "0  1\n",
            "1  2\n",
            "2  3\n",
            "3  4\n",
            "4  5\n",
            "5  6\n",
            "6  7\n",
            "7  8\n",
            "8  9>\n"
          ]
        }
      ]
    },
    {
      "cell_type": "code",
      "source": [
        "import matplotlib.pyplot as plt\n",
        "\n",
        "\n",
        "x = [1, 2, 3, 4, 5]\n",
        "y = [2, 3, 5, 7, 11]\n",
        "\n",
        "plt.plot(x, y)\n",
        "plt.title('Sample Line Plot')\n",
        "plt.xlabel('X-axis')\n",
        "plt.ylabel('Y-axis')\n",
        "plt.show()\n"
      ],
      "metadata": {
        "colab": {
          "base_uri": "https://localhost:8080/",
          "height": 472
        },
        "id": "eLtSwQe__hA8",
        "outputId": "d3c57070-229b-4a52-eabd-29d8f7275da8"
      },
      "execution_count": 11,
      "outputs": [
        {
          "output_type": "display_data",
          "data": {
            "text/plain": [
              "<Figure size 640x480 with 1 Axes>"
            ],
            "image/png": "[encoded data removed]"
          },
          "metadata": {}
        }
      ]
    },
    {
      "cell_type": "code",
      "source": [
        "data = [2,5,7,3,8,1]\n",
        "\n",
        "series = pd.Series(data)\n",
        "print(series)"
      ],
      "metadata": {
        "colab": {
          "base_uri": "https://localhost:8080/"
        },
        "id": "2i8g_AkJAAu0",
        "outputId": "e49c4f86-059d-4d85-a1fd-85ae5d0fa5c8"
      },
      "execution_count": 12,
      "outputs": [
        {
          "output_type": "stream",
          "name": "stdout",
          "text": [
            "0    2\n",
            "1    5\n",
            "2    7\n",
            "3    3\n",
            "4    8\n",
            "5    1\n",
            "dtype: int64\n"
          ]
        }
      ]
    },
    {
      "cell_type": "code",
      "source": [
        "import pandas as pd\n",
        "\n",
        "series = pd.Series([10, 20, 30, 40, 50], index=['a', 'b', 'c', 'd', 'e'])\n",
        "print(\"Index:\", series.index)\n",
        "print(\"Values:\", series.values)\n"
      ],
      "metadata": {
        "colab": {
          "base_uri": "https://localhost:8080/"
        },
        "id": "Ie1kqMtsAO57",
        "outputId": "afd06b15-b9be-49c7-9e2b-c0fedcf9056b"
      },
      "execution_count": 13,
      "outputs": [
        {
          "output_type": "stream",
          "name": "stdout",
          "text": [
            "Index: Index(['a', 'b', 'c', 'd', 'e'], dtype='object')\n",
            "Values: [10 20 30 40 50]\n"
          ]
        }
      ]
    },
    {
      "cell_type": "code",
      "source": [
        "import numpy as np\n",
        "\n",
        "arr = np.array([10, 20, 30, 40, 50])\n",
        "series = pd.Series(arr, index=['a', 'b', 'c', 'd', 'e'])\n",
        "\n",
        "print(\"NumPy array:\", arr)\n",
        "print(\"Pandas Series:\", series)\n"
      ],
      "metadata": {
        "colab": {
          "base_uri": "https://localhost:8080/"
        },
        "id": "Ojlt4g4SAvRb",
        "outputId": "e96cae7e-d48b-41bc-d847-02a1f532b72f"
      },
      "execution_count": 14,
      "outputs": [
        {
          "output_type": "stream",
          "name": "stdout",
          "text": [
            "NumPy array: [10 20 30 40 50]\n",
            "Pandas Series: a    10\n",
            "b    20\n",
            "c    30\n",
            "d    40\n",
            "e    50\n",
            "dtype: int64\n"
          ]
        }
      ]
    },
    {
      "cell_type": "code",
      "source": [
        "custom_series = pd.Series({'apple': 3, 'banana': 5, 'orange': 2})\n",
        "print(custom_series)\n"
      ],
      "metadata": {
        "colab": {
          "base_uri": "https://localhost:8080/"
        },
        "id": "QYmNRhWmA0YD",
        "outputId": "b80e5281-f3da-4529-d0ac-d76cff45eedb"
      },
      "execution_count": 15,
      "outputs": [
        {
          "output_type": "stream",
          "name": "stdout",
          "text": [
            "apple     3\n",
            "banana    5\n",
            "orange    2\n",
            "dtype: int64\n"
          ]
        }
      ]
    },
    {
      "cell_type": "code",
      "source": [
        "print(custom_series['banana'])\n"
      ],
      "metadata": {
        "colab": {
          "base_uri": "https://localhost:8080/"
        },
        "id": "YSqulcYYA8g7",
        "outputId": "dbe90e12-2d50-4ceb-e396-13292f637616"
      },
      "execution_count": 16,
      "outputs": [
        {
          "output_type": "stream",
          "name": "stdout",
          "text": [
            "5\n"
          ]
        }
      ]
    },
    {
      "cell_type": "code",
      "source": [
        "import seaborn as sns\n",
        "\n",
        "df = sns.load_dataset('iris')\n",
        "print(df.head())\n"
      ],
      "metadata": {
        "colab": {
          "base_uri": "https://localhost:8080/"
        },
        "id": "PWjlqWJMBAbM",
        "outputId": "f4134361-6d08-4b5d-bb63-ac62367d2d2a"
      },
      "execution_count": 17,
      "outputs": [
        {
          "output_type": "stream",
          "name": "stdout",
          "text": [
            "   sepal_length  sepal_width  petal_length  petal_width species\n",
            "0           5.1          3.5           1.4          0.2  setosa\n",
            "1           4.9          3.0           1.4          0.2  setosa\n",
            "2           4.7          3.2           1.3          0.2  setosa\n",
            "3           4.6          3.1           1.5          0.2  setosa\n",
            "4           5.0          3.6           1.4          0.2  setosa\n"
          ]
        }
      ]
    },
    {
      "cell_type": "code",
      "source": [
        "import matplotlib.pyplot as plt\n",
        "\n",
        "plt.hist(df['sepal_length'], bins=15, color='lightblue')\n",
        "plt.title('Sepal Length Distribution')\n",
        "plt.xlabel('Sepal Length (cm)')\n",
        "plt.ylabel('Frequency')\n",
        "plt.grid(True)\n",
        "plt.show()\n",
        "\n",
        "plt.scatter(df['sepal_length'], df['sepal_width'], c='green', alpha=0.5)\n",
        "plt.title('Sepal Length vs Sepal Width')\n",
        "plt.xlabel('Sepal Length (cm)')\n",
        "plt.ylabel('Sepal Width (cm)')\n",
        "plt.show()\n",
        "\n",
        "plt.plot(df['sepal_length'].values[:10], label='Sepal Length')\n",
        "plt.plot(df['sepal_width'].values[:10], label='Sepal Width')\n",
        "plt.legend()\n",
        "plt.title('First 10 Sepal Length and Width')\n",
        "plt.show()\n"
      ],
      "metadata": {
        "colab": {
          "base_uri": "https://localhost:8080/",
          "height": 1000
        },
        "id": "lOpMRm7NBECL",
        "outputId": "6452dabf-cc30-4274-9c4c-0dbd36778a2a"
      },
      "execution_count": 18,
      "outputs": [
        {
          "output_type": "display_data",
          "data": {
            "text/plain": [
              "<Figure size 640x480 with 1 Axes>"
            ],
            "image/png": "[encoded data removed]"
          },
          "metadata": {}
        },
        {
          "output_type": "display_data",
          "data": {
            "text/plain": [
              "<Figure size 640x480 with 1 Axes>"
            ],
            "image/png": "[encoded data removed]"
          },
          "metadata": {}
        },
        {
          "output_type": "display_data",
          "data": {
            "text/plain": [
              "<Figure size 640x480 with 1 Axes>"
            ],
            "image/png": "[encoded data removed]"
          },
          "metadata": {}
        }
      ]
    },
    {
      "cell_type": "code",
      "source": [
        "import pandas as pd\n",
        "\n",
        "data = {\n",
        "    'Name': ['Alice', 'Bob', 'Charlie', 'David'],\n",
        "    'Age': [25, 30, 35, 40],\n",
        "    'City': ['NY', 'LA', 'Chicago', 'Houston']\n",
        "}\n",
        "\n",
        "df = pd.DataFrame(data)\n",
        "print(df)\n"
      ],
      "metadata": {
        "colab": {
          "base_uri": "https://localhost:8080/"
        },
        "id": "pXYEyZMTBJBU",
        "outputId": "0788feb9-cbb7-4b12-8780-75e595dd1fca"
      },
      "execution_count": 19,
      "outputs": [
        {
          "output_type": "stream",
          "name": "stdout",
          "text": [
            "      Name  Age     City\n",
            "0    Alice   25       NY\n",
            "1      Bob   30       LA\n",
            "2  Charlie   35  Chicago\n",
            "3    David   40  Houston\n"
          ]
        }
      ]
    },
    {
      "cell_type": "code",
      "source": [
        "import pandas as pd\n",
        "\n",
        "df = pd.read_csv('annual-enterprise-survey-2024-financial-year-provisional.csv')\n",
        "print(df.head())\n"
      ],
      "metadata": {
        "colab": {
          "base_uri": "https://localhost:8080/"
        },
        "id": "A1uRG7J_B4Lz",
        "outputId": "32edb44b-f066-40b5-f112-3546ae4fb3cd"
      },
      "execution_count": 22,
      "outputs": [
        {
          "output_type": "stream",
          "name": "stdout",
          "text": [
            "   Year Industry_aggregation_NZSIOC Industry_code_NZSIOC Industry_name_NZSIOC  \\\n",
            "0  2024                     Level 1                99999       All industries   \n",
            "1  2024                     Level 1                99999       All industries   \n",
            "2  2024                     Level 1                99999       All industries   \n",
            "3  2024                     Level 1                99999       All industries   \n",
            "4  2024                     Level 1                99999       All industries   \n",
            "\n",
            "                Units Variable_code  \\\n",
            "0  Dollars (millions)           H01   \n",
            "1  Dollars (millions)           H04   \n",
            "2  Dollars (millions)           H05   \n",
            "3  Dollars (millions)           H07   \n",
            "4  Dollars (millions)           H08   \n",
            "\n",
            "                                     Variable_name      Variable_category  \\\n",
            "0                                     Total income  Financial performance   \n",
            "1  Sales, government funding, grants and subsidies  Financial performance   \n",
            "2                Interest, dividends and donations  Financial performance   \n",
            "3                             Non-operating income  Financial performance   \n",
            "4                                Total expenditure  Financial performance   \n",
            "\n",
            "    Value                             Industry_code_ANZSIC06  \n",
            "0  979594  ANZSIC06 divisions A-S (excluding classes K633...  \n",
            "1  838626  ANZSIC06 divisions A-S (excluding classes K633...  \n",
            "2  112188  ANZSIC06 divisions A-S (excluding classes K633...  \n",
            "3   28781  ANZSIC06 divisions A-S (excluding classes K633...  \n",
            "4  856960  ANZSIC06 divisions A-S (excluding classes K633...  \n"
          ]
        }
      ]
    },
    {
      "cell_type": "code",
      "source": [
        "from sklearn import datasets\n",
        "import pandas as pd\n",
        "\n",
        "\n",
        "iris = datasets.load_iris()\n",
        "\n",
        "\n",
        "df_iris = pd.DataFrame(data=iris.data, columns=iris.feature_names)\n",
        "df_iris['target'] = iris.target\n",
        "\n",
        "print(df_iris.head())\n"
      ],
      "metadata": {
        "colab": {
          "base_uri": "https://localhost:8080/"
        },
        "id": "AJ_sKJtPCb4D",
        "outputId": "1925cddb-1700-4248-9500-fcb4105825fe"
      },
      "execution_count": 23,
      "outputs": [
        {
          "output_type": "stream",
          "name": "stdout",
          "text": [
            "   sepal length (cm)  sepal width (cm)  petal length (cm)  petal width (cm)  \\\n",
            "0                5.1               3.5                1.4               0.2   \n",
            "1                4.9               3.0                1.4               0.2   \n",
            "2                4.7               3.2                1.3               0.2   \n",
            "3                4.6               3.1                1.5               0.2   \n",
            "4                5.0               3.6                1.4               0.2   \n",
            "\n",
            "   target  \n",
            "0       0  \n",
            "1       0  \n",
            "2       0  \n",
            "3       0  \n",
            "4       0  \n"
          ]
        }
      ]
    },
    {
      "cell_type": "code",
      "source": [
        "import pandas as pd\n",
        "import numpy as np\n",
        "from scipy import stats\n",
        "\n",
        "data = {\n",
        "    'Age': [25, 30, 22, np.nan, 28, 35, 40, 29, 33, np.nan],\n",
        "    'Salary': [50000, 60000, 45000, 52000, np.nan, 58000, 62000, 57000, 59000, 61000]\n",
        "}\n",
        "\n",
        "df = pd.DataFrame(data)\n",
        "\n",
        "mean_age = df['Age'].mean()\n",
        "median_age = df['Age'].median()\n",
        "mode_age = df['Age'].mode()[0]\n",
        "var_age = df['Age'].var()\n",
        "std_age = df['Age'].std()\n",
        "\n",
        "mean_salary = df['Salary'].mean()\n",
        "median_salary = df['Salary'].median()\n",
        "mode_salary = df['Salary'].mode()[0]\n",
        "var_salary = df['Salary'].var()\n",
        "std_salary = df['Salary'].std()\n",
        "\n",
        "print(f\"Age - Mean: {mean_age}, Median: {median_age}, Mode: {mode_age}, Variance: {var_age}, Std Dev: {std_age}\")\n",
        "print(f\"Salary - Mean: {mean_salary}, Median: {median_salary}, Mode: {mode_salary}, Variance: {var_salary}, Std Dev: {std_salary}\")\n"
      ],
      "metadata": {
        "colab": {
          "base_uri": "https://localhost:8080/"
        },
        "id": "nx9pT62eCxsJ",
        "outputId": "5d8f360f-d9ef-4198-c388-ee89f3b693b2"
      },
      "execution_count": 24,
      "outputs": [
        {
          "output_type": "stream",
          "name": "stdout",
          "text": [
            "Age - Mean: 30.25, Median: 29.5, Mode: 22.0, Variance: 32.5, Std Dev: 5.70087712549569\n",
            "Salary - Mean: 56000.0, Median: 58000.0, Mode: 45000.0, Variance: 33000000.0, Std Dev: 5744.562646538028\n"
          ]
        }
      ]
    },
    {
      "cell_type": "code",
      "source": [
        "import pandas as pd\n",
        "import numpy as np\n",
        "from sklearn.preprocessing import LabelEncoder, StandardScaler\n",
        "from sklearn.model_selection import train_test_split\n",
        "\n",
        "data = {\n",
        "    'Age': [25, 30, 22, np.nan, 28, 35, 40, 29, 33, np.nan],\n",
        "    'Salary': [50000, 60000, 45000, 52000, np.nan, 58000, 62000, 57000, 59000, 61000],\n",
        "    'Department': ['HR', 'Engineering', 'HR', 'Marketing', 'Engineering', 'HR', 'Marketing', np.nan, 'Engineering', 'Marketing']\n",
        "}\n",
        "\n",
        "df = pd.DataFrame(data)\n",
        "\n",
        "df['Age'].fillna(df['Age'].mean(), inplace=True)\n",
        "df['Salary'].fillna(df['Salary'].mean(), inplace=True)\n",
        "df['Department'].fillna(df['Department'].mode()[0], inplace=True)\n",
        "\n",
        "le = LabelEncoder()\n",
        "df['Department_encoded'] = le.fit_transform(df['Department'])\n",
        "\n",
        "scaler = StandardScaler()\n",
        "df[['Age_scaled', 'Salary_scaled']] = scaler.fit_transform(df[['Age', 'Salary']])\n",
        "\n",
        "print(\"Processed DataFrame:\")\n",
        "print(df)\n",
        "\n",
        "y = np.random.randint(0, 2, size=len(df))\n",
        "X = df[['Age_scaled', 'Salary_scaled', 'Department_encoded']]\n",
        "\n",
        "X_train, X_test, y_train, y_test = train_test_split(X, y, test_size=0.3, random_state=42)\n",
        "\n",
        "print(\"\\nTrain Features:\")\n",
        "print(X_train)\n",
        "\n",
        "print(\"\\nTest Features:\")\n",
        "print(X_test)\n"
      ],
      "metadata": {
        "colab": {
          "base_uri": "https://localhost:8080/"
        },
        "id": "gKWSK-rhDKLL",
        "outputId": "ef6988e8-2465-4ac7-dd62-b1d8216a14a3"
      },
      "execution_count": 25,
      "outputs": [
        {
          "output_type": "stream",
          "name": "stdout",
          "text": [
            "Processed DataFrame:\n",
            "     Age   Salary   Department  Department_encoded  Age_scaled  Salary_scaled\n",
            "0  25.00  50000.0           HR                   1   -1.100699      -1.167748\n",
            "1  30.00  60000.0  Engineering                   0   -0.052414       0.778499\n",
            "2  22.00  45000.0           HR                   1   -1.729670      -2.140872\n",
            "3  30.25  52000.0    Marketing                   2    0.000000      -0.778499\n",
            "4  28.00  56000.0  Engineering                   0   -0.471728       0.000000\n",
            "5  35.00  58000.0           HR                   1    0.995871       0.389249\n",
            "6  40.00  62000.0    Marketing                   2    2.044155       1.167748\n",
            "7  29.00  57000.0  Engineering                   0   -0.262071       0.194625\n",
            "8  33.00  59000.0  Engineering                   0    0.576557       0.583874\n",
            "9  30.25  61000.0    Marketing                   2    0.000000       0.973124\n",
            "\n",
            "Train Features:\n",
            "   Age_scaled  Salary_scaled  Department_encoded\n",
            "0   -1.100699      -1.167748                   1\n",
            "7   -0.262071       0.194625                   0\n",
            "2   -1.729670      -2.140872                   1\n",
            "9    0.000000       0.973124                   2\n",
            "4   -0.471728       0.000000                   0\n",
            "3    0.000000      -0.778499                   2\n",
            "6    2.044155       1.167748                   2\n",
            "\n",
            "Test Features:\n",
            "   Age_scaled  Salary_scaled  Department_encoded\n",
            "8    0.576557       0.583874                   0\n",
            "1   -0.052414       0.778499                   0\n",
            "5    0.995871       0.389249                   1\n"
          ]
        },
        {
          "output_type": "stream",
          "name": "stderr",
          "text": [
            "/tmp/ipython-input-25-2910047575.py:14: FutureWarning: A value is trying to be set on a copy of a DataFrame or Series through chained assignment using an inplace method.\n",
            "The behavior will change in pandas 3.0. This inplace method will never work because the intermediate object on which we are setting values always behaves as a copy.\n",
            "\n",
            "For example, when doing 'df[col].method(value, inplace=True)', try using 'df.method({col: value}, inplace=True)' or df[col] = df[col].method(value) instead, to perform the operation inplace on the original object.\n",
            "\n",
            "\n",
            "  df['Age'].fillna(df['Age'].mean(), inplace=True)\n",
            "/tmp/ipython-input-25-2910047575.py:15: FutureWarning: A value is trying to be set on a copy of a DataFrame or Series through chained assignment using an inplace method.\n",
            "The behavior will change in pandas 3.0. This inplace method will never work because the intermediate object on which we are setting values always behaves as a copy.\n",
            "\n",
            "For example, when doing 'df[col].method(value, inplace=True)', try using 'df.method({col: value}, inplace=True)' or df[col] = df[col].method(value) instead, to perform the operation inplace on the original object.\n",
            "\n",
            "\n",
            "  df['Salary'].fillna(df['Salary'].mean(), inplace=True)\n",
            "/tmp/ipython-input-25-2910047575.py:16: FutureWarning: A value is trying to be set on a copy of a DataFrame or Series through chained assignment using an inplace method.\n",
            "The behavior will change in pandas 3.0. This inplace method will never work because the intermediate object on which we are setting values always behaves as a copy.\n",
            "\n",
            "For example, when doing 'df[col].method(value, inplace=True)', try using 'df.method({col: value}, inplace=True)' or df[col] = df[col].method(value) instead, to perform the operation inplace on the original object.\n",
            "\n",
            "\n",
            "  df['Department'].fillna(df['Department'].mode()[0], inplace=True)\n"
          ]
        }
      ]
    },
    {
      "cell_type": "code",
      "source": [],
      "metadata": {
        "id": "rAnsJvc7Dpzz"
      },
      "execution_count": null,
      "outputs": []
    }
  ]
}